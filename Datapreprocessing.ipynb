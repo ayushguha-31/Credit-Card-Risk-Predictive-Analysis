{
 "cells": [
  {
   "cell_type": "code",
   "execution_count": 199,
   "id": "6e368dce",
   "metadata": {},
   "outputs": [],
   "source": [
    "from IPython.core.interactiveshell import InteractiveShell\n",
    "InteractiveShell.ast_node_interactivity = \"all\"\n",
    "import pandas as pd\n",
    "import numpy as np\n",
    "import seaborn as sns \n",
    "import matplotlib.pyplot as plt"
   ]
  },
  {
   "cell_type": "code",
   "execution_count": 200,
   "id": "30524f93",
   "metadata": {},
   "outputs": [],
   "source": [
    "df=pd.read_csv('eda.csv')"
   ]
  },
  {
   "cell_type": "code",
   "execution_count": 201,
   "id": "e5eab96a",
   "metadata": {},
   "outputs": [
    {
     "name": "stdout",
     "output_type": "stream",
     "text": [
      "<class 'pandas.core.frame.DataFrame'>\n",
      "RangeIndex: 777715 entries, 0 to 777714\n",
      "Data columns (total 20 columns):\n",
      " #   Column              Non-Null Count   Dtype  \n",
      "---  ------              --------------   -----  \n",
      " 0   ID                  777715 non-null  int64  \n",
      " 1   gender              777715 non-null  object \n",
      " 2   own_car             777715 non-null  object \n",
      " 3   own_property        777715 non-null  object \n",
      " 4   children            777715 non-null  int64  \n",
      " 5   income              777715 non-null  float64\n",
      " 6   income_type         777715 non-null  object \n",
      " 7   education           777715 non-null  object \n",
      " 8   family_status       777715 non-null  object \n",
      " 9   housing_type        777715 non-null  object \n",
      " 10  age_in_days         777715 non-null  int64  \n",
      " 11  employment_in_days  777715 non-null  int64  \n",
      " 12  mobile              777715 non-null  int64  \n",
      " 13  work_phone          777715 non-null  int64  \n",
      " 14  phone               777715 non-null  int64  \n",
      " 15  email               777715 non-null  int64  \n",
      " 16  family_members      777715 non-null  int64  \n",
      " 17  months_balance      777715 non-null  int64  \n",
      " 18  status              777715 non-null  object \n",
      " 19  loan_status         777715 non-null  object \n",
      "dtypes: float64(1), int64(10), object(9)\n",
      "memory usage: 118.7+ MB\n"
     ]
    }
   ],
   "source": [
    "df.info()"
   ]
  },
  {
   "cell_type": "code",
   "execution_count": 202,
   "id": "b37c7a75",
   "metadata": {},
   "outputs": [
    {
     "data": {
      "text/plain": [
       "Index(['ID', 'gender', 'own_car', 'own_property', 'children', 'income',\n",
       "       'income_type', 'education', 'family_status', 'housing_type',\n",
       "       'age_in_days', 'employment_in_days', 'mobile', 'work_phone', 'phone',\n",
       "       'email', 'family_members', 'months_balance', 'status', 'loan_status'],\n",
       "      dtype='object')"
      ]
     },
     "execution_count": 202,
     "metadata": {},
     "output_type": "execute_result"
    }
   ],
   "source": [
    "df.columns"
   ]
  },
  {
   "cell_type": "code",
   "execution_count": 203,
   "id": "61b25445",
   "metadata": {},
   "outputs": [
    {
     "data": {
      "text/plain": [
       "0"
      ]
     },
     "execution_count": 203,
     "metadata": {},
     "output_type": "execute_result"
    }
   ],
   "source": [
    "df.duplicated().sum()"
   ]
  },
  {
   "cell_type": "markdown",
   "id": "b6a60587",
   "metadata": {},
   "source": [
    "# Plotting Boxplot for numeric columns"
   ]
  },
  {
   "cell_type": "code",
   "execution_count": 204,
   "id": "fedecc07",
   "metadata": {},
   "outputs": [
    {
     "data": {
      "text/plain": [
       "<Figure size 1500x600 with 0 Axes>"
      ]
     },
     "execution_count": 204,
     "metadata": {},
     "output_type": "execute_result"
    },
    {
     "data": {
      "text/plain": [
       "<Axes: >"
      ]
     },
     "execution_count": 204,
     "metadata": {},
     "output_type": "execute_result"
    },
    {
     "data": {
      "text/plain": [
       "Text(0.5, 1.0, 'children')"
      ]
     },
     "execution_count": 204,
     "metadata": {},
     "output_type": "execute_result"
    },
    {
     "data": {
      "text/plain": [
       "<Axes: title={'center': 'children'}, ylabel='children'>"
      ]
     },
     "execution_count": 204,
     "metadata": {},
     "output_type": "execute_result"
    },
    {
     "data": {
      "text/plain": [
       "<Axes: >"
      ]
     },
     "execution_count": 204,
     "metadata": {},
     "output_type": "execute_result"
    },
    {
     "data": {
      "text/plain": [
       "Text(0.5, 1.0, 'income')"
      ]
     },
     "execution_count": 204,
     "metadata": {},
     "output_type": "execute_result"
    },
    {
     "data": {
      "text/plain": [
       "<Axes: title={'center': 'income'}, ylabel='income'>"
      ]
     },
     "execution_count": 204,
     "metadata": {},
     "output_type": "execute_result"
    },
    {
     "data": {
      "text/plain": [
       "<Axes: >"
      ]
     },
     "execution_count": 204,
     "metadata": {},
     "output_type": "execute_result"
    },
    {
     "data": {
      "text/plain": [
       "Text(0.5, 1.0, 'age_in_days')"
      ]
     },
     "execution_count": 204,
     "metadata": {},
     "output_type": "execute_result"
    },
    {
     "data": {
      "text/plain": [
       "<Axes: title={'center': 'age_in_days'}, ylabel='age_in_days'>"
      ]
     },
     "execution_count": 204,
     "metadata": {},
     "output_type": "execute_result"
    },
    {
     "data": {
      "text/plain": [
       "<Axes: >"
      ]
     },
     "execution_count": 204,
     "metadata": {},
     "output_type": "execute_result"
    },
    {
     "data": {
      "text/plain": [
       "Text(0.5, 1.0, 'family_members')"
      ]
     },
     "execution_count": 204,
     "metadata": {},
     "output_type": "execute_result"
    },
    {
     "data": {
      "text/plain": [
       "<Axes: title={'center': 'family_members'}, ylabel='family_members'>"
      ]
     },
     "execution_count": 204,
     "metadata": {},
     "output_type": "execute_result"
    },
    {
     "data": {
      "text/plain": [
       "<Axes: >"
      ]
     },
     "execution_count": 204,
     "metadata": {},
     "output_type": "execute_result"
    },
    {
     "data": {
      "text/plain": [
       "Text(0.5, 1.0, 'months_balance')"
      ]
     },
     "execution_count": 204,
     "metadata": {},
     "output_type": "execute_result"
    },
    {
     "data": {
      "text/plain": [
       "<Axes: title={'center': 'months_balance'}, ylabel='months_balance'>"
      ]
     },
     "execution_count": 204,
     "metadata": {},
     "output_type": "execute_result"
    },
    {
     "data": {
      "text/plain": [
       "<Axes: >"
      ]
     },
     "execution_count": 204,
     "metadata": {},
     "output_type": "execute_result"
    },
    {
     "data": {
      "text/plain": [
       "Text(0.5, 1.0, 'employment_in_days')"
      ]
     },
     "execution_count": 204,
     "metadata": {},
     "output_type": "execute_result"
    },
    {
     "data": {
      "text/plain": [
       "<Axes: title={'center': 'employment_in_days'}, ylabel='employment_in_days'>"
      ]
     },
     "execution_count": 204,
     "metadata": {},
     "output_type": "execute_result"
    },
    {
     "data": {
      "image/png": "[encoded data removed]",
      "text/plain": [
       "<Figure size 1500x600 with 6 Axes>"
      ]
     },
     "metadata": {},
     "output_type": "display_data"
    }
   ],
   "source": [
    "\n",
    "# filtering the list of specific columns    \n",
    "col = ['children', 'income', 'age_in_days',  'family_members' ,'months_balance','employment_in_days']\n",
    "\n",
    "# defining the figure size\n",
    "plt.figure(figsize=(15, 6))\n",
    "\n",
    "# plotting the countplot using for loop\n",
    "for i in range(len(col)):\n",
    "    plt.subplot(3, 2, i+1)\n",
    "    plt.title(col[i])  # Use the column name as the title\n",
    "    sns.boxplot(data=df, y=col[i])\n",
    "\n",
    "plt.tight_layout()  # Adjust the layout to prevent overlapping\n",
    "plt.show()"
   ]
  },
  {
   "cell_type": "raw",
   "id": "ce498183",
   "metadata": {},
   "source": [
    "Observation \n",
    "As we can see that the outliers are present in three columns.\n",
    "income\n",
    "children\n",
    "family_members"
   ]
  },
  {
   "cell_type": "code",
   "execution_count": 205,
   "id": "17b69acb",
   "metadata": {},
   "outputs": [],
   "source": [
    "#removing outliers\n",
    "col=['children','income','family_members']\n",
    "for i in range(len(col)):\n",
    "    q1=df[col[i]].quantile(0.25)\n",
    "    q3=df[col[i]].quantile(0.75)\n",
    "    iqr=q3-q1\n",
    "    lower_bound=q1-1.5*iqr\n",
    "    upper_bound=q3+1.5*iqr\n",
    "    df[col[i]]=np.where((df[col[i]]>=upper_bound)|(df[col[i]]<=lower_bound),df[col[i]].median(),df[col[i]])"
   ]
  },
  {
   "cell_type": "markdown",
   "id": "8faf76c5",
   "metadata": {},
   "source": [
    "# Plotting the boxplot to confirm outcomes"
   ]
  },
  {
   "cell_type": "code",
   "execution_count": 206,
   "id": "07aaede9",
   "metadata": {},
   "outputs": [
    {
     "data": {
      "text/plain": [
       "<Figure size 1500x600 with 0 Axes>"
      ]
     },
     "execution_count": 206,
     "metadata": {},
     "output_type": "execute_result"
    },
    {
     "data": {
      "text/plain": [
       "<Axes: >"
      ]
     },
     "execution_count": 206,
     "metadata": {},
     "output_type": "execute_result"
    },
    {
     "data": {
      "text/plain": [
       "Text(0.5, 1.0, 'children')"
      ]
     },
     "execution_count": 206,
     "metadata": {},
     "output_type": "execute_result"
    },
    {
     "data": {
      "text/plain": [
       "<Axes: title={'center': 'children'}, ylabel='children'>"
      ]
     },
     "execution_count": 206,
     "metadata": {},
     "output_type": "execute_result"
    },
    {
     "data": {
      "text/plain": [
       "<Axes: >"
      ]
     },
     "execution_count": 206,
     "metadata": {},
     "output_type": "execute_result"
    },
    {
     "data": {
      "text/plain": [
       "Text(0.5, 1.0, 'income')"
      ]
     },
     "execution_count": 206,
     "metadata": {},
     "output_type": "execute_result"
    },
    {
     "data": {
      "text/plain": [
       "<Axes: title={'center': 'income'}, ylabel='income'>"
      ]
     },
     "execution_count": 206,
     "metadata": {},
     "output_type": "execute_result"
    },
    {
     "data": {
      "text/plain": [
       "<Axes: >"
      ]
     },
     "execution_count": 206,
     "metadata": {},
     "output_type": "execute_result"
    },
    {
     "data": {
      "text/plain": [
       "Text(0.5, 1.0, 'age_in_days')"
      ]
     },
     "execution_count": 206,
     "metadata": {},
     "output_type": "execute_result"
    },
    {
     "data": {
      "text/plain": [
       "<Axes: title={'center': 'age_in_days'}, ylabel='age_in_days'>"
      ]
     },
     "execution_count": 206,
     "metadata": {},
     "output_type": "execute_result"
    },
    {
     "data": {
      "text/plain": [
       "<Axes: >"
      ]
     },
     "execution_count": 206,
     "metadata": {},
     "output_type": "execute_result"
    },
    {
     "data": {
      "text/plain": [
       "Text(0.5, 1.0, 'family_members')"
      ]
     },
     "execution_count": 206,
     "metadata": {},
     "output_type": "execute_result"
    },
    {
     "data": {
      "text/plain": [
       "<Axes: title={'center': 'family_members'}, ylabel='family_members'>"
      ]
     },
     "execution_count": 206,
     "metadata": {},
     "output_type": "execute_result"
    },
    {
     "data": {
      "image/png": "[encoded data removed]",
      "text/plain": [
       "<Figure size 1500x600 with 4 Axes>"
      ]
     },
     "metadata": {},
     "output_type": "display_data"
    }
   ],
   "source": [
    "col = ['children', 'income', 'age_in_days',  'family_members']\n",
    "\n",
    "plt.figure(figsize=(15, 6))\n",
    "\n",
    "for i in range(len(col)):\n",
    "    plt.subplot(2, 2, i+1)\n",
    "    plt.title(col[i])  # Use the column name as the title\n",
    "    sns.boxplot(data=df, y=col[i])\n",
    "\n",
    "plt.tight_layout()  # Adjust the layout to prevent overlapping\n",
    "plt.show()"
   ]
  },
  {
   "cell_type": "markdown",
   "id": "64a5b16c",
   "metadata": {},
   "source": [
    "# Standardization"
   ]
  },
  {
   "cell_type": "code",
   "execution_count": 207,
   "id": "74cdf21e",
   "metadata": {
    "scrolled": false
   },
   "outputs": [
    {
     "data": {
      "text/html": [
       "<div>\n",
       "<style scoped>\n",
       "    .dataframe tbody tr th:only-of-type {\n",
       "        vertical-align: middle;\n",
       "    }\n",
       "\n",
       "    .dataframe tbody tr th {\n",
       "        vertical-align: top;\n",
       "    }\n",
       "\n",
       "    .dataframe thead th {\n",
       "        text-align: right;\n",
       "    }\n",
       "</style>\n",
       "<table border=\"1\" class=\"dataframe\">\n",
       "  <thead>\n",
       "    <tr style=\"text-align: right;\">\n",
       "      <th></th>\n",
       "      <th>ID</th>\n",
       "      <th>gender</th>\n",
       "      <th>own_car</th>\n",
       "      <th>own_property</th>\n",
       "      <th>children</th>\n",
       "      <th>income</th>\n",
       "      <th>income_type</th>\n",
       "      <th>education</th>\n",
       "      <th>family_status</th>\n",
       "      <th>housing_type</th>\n",
       "      <th>age_in_days</th>\n",
       "      <th>employment_in_days</th>\n",
       "      <th>mobile</th>\n",
       "      <th>work_phone</th>\n",
       "      <th>phone</th>\n",
       "      <th>email</th>\n",
       "      <th>family_members</th>\n",
       "      <th>months_balance</th>\n",
       "      <th>status</th>\n",
       "      <th>loan_status</th>\n",
       "    </tr>\n",
       "  </thead>\n",
       "  <tbody>\n",
       "    <tr>\n",
       "      <th>0</th>\n",
       "      <td>5008804</td>\n",
       "      <td>M</td>\n",
       "      <td>Y</td>\n",
       "      <td>Y</td>\n",
       "      <td>0.0</td>\n",
       "      <td>162000.0</td>\n",
       "      <td>Working</td>\n",
       "      <td>Higher education</td>\n",
       "      <td>Civil marriage</td>\n",
       "      <td>Rented apartment</td>\n",
       "      <td>-12005</td>\n",
       "      <td>-4542</td>\n",
       "      <td>1</td>\n",
       "      <td>1</td>\n",
       "      <td>0</td>\n",
       "      <td>0</td>\n",
       "      <td>2.0</td>\n",
       "      <td>0</td>\n",
       "      <td>C</td>\n",
       "      <td>good</td>\n",
       "    </tr>\n",
       "    <tr>\n",
       "      <th>1</th>\n",
       "      <td>5008804</td>\n",
       "      <td>M</td>\n",
       "      <td>Y</td>\n",
       "      <td>Y</td>\n",
       "      <td>0.0</td>\n",
       "      <td>162000.0</td>\n",
       "      <td>Working</td>\n",
       "      <td>Higher education</td>\n",
       "      <td>Civil marriage</td>\n",
       "      <td>Rented apartment</td>\n",
       "      <td>-12005</td>\n",
       "      <td>-4542</td>\n",
       "      <td>1</td>\n",
       "      <td>1</td>\n",
       "      <td>0</td>\n",
       "      <td>0</td>\n",
       "      <td>2.0</td>\n",
       "      <td>-1</td>\n",
       "      <td>C</td>\n",
       "      <td>good</td>\n",
       "    </tr>\n",
       "    <tr>\n",
       "      <th>2</th>\n",
       "      <td>5008804</td>\n",
       "      <td>M</td>\n",
       "      <td>Y</td>\n",
       "      <td>Y</td>\n",
       "      <td>0.0</td>\n",
       "      <td>162000.0</td>\n",
       "      <td>Working</td>\n",
       "      <td>Higher education</td>\n",
       "      <td>Civil marriage</td>\n",
       "      <td>Rented apartment</td>\n",
       "      <td>-12005</td>\n",
       "      <td>-4542</td>\n",
       "      <td>1</td>\n",
       "      <td>1</td>\n",
       "      <td>0</td>\n",
       "      <td>0</td>\n",
       "      <td>2.0</td>\n",
       "      <td>-2</td>\n",
       "      <td>C</td>\n",
       "      <td>good</td>\n",
       "    </tr>\n",
       "    <tr>\n",
       "      <th>3</th>\n",
       "      <td>5008804</td>\n",
       "      <td>M</td>\n",
       "      <td>Y</td>\n",
       "      <td>Y</td>\n",
       "      <td>0.0</td>\n",
       "      <td>162000.0</td>\n",
       "      <td>Working</td>\n",
       "      <td>Higher education</td>\n",
       "      <td>Civil marriage</td>\n",
       "      <td>Rented apartment</td>\n",
       "      <td>-12005</td>\n",
       "      <td>-4542</td>\n",
       "      <td>1</td>\n",
       "      <td>1</td>\n",
       "      <td>0</td>\n",
       "      <td>0</td>\n",
       "      <td>2.0</td>\n",
       "      <td>-3</td>\n",
       "      <td>C</td>\n",
       "      <td>good</td>\n",
       "    </tr>\n",
       "    <tr>\n",
       "      <th>4</th>\n",
       "      <td>5008804</td>\n",
       "      <td>M</td>\n",
       "      <td>Y</td>\n",
       "      <td>Y</td>\n",
       "      <td>0.0</td>\n",
       "      <td>162000.0</td>\n",
       "      <td>Working</td>\n",
       "      <td>Higher education</td>\n",
       "      <td>Civil marriage</td>\n",
       "      <td>Rented apartment</td>\n",
       "      <td>-12005</td>\n",
       "      <td>-4542</td>\n",
       "      <td>1</td>\n",
       "      <td>1</td>\n",
       "      <td>0</td>\n",
       "      <td>0</td>\n",
       "      <td>2.0</td>\n",
       "      <td>-4</td>\n",
       "      <td>C</td>\n",
       "      <td>good</td>\n",
       "    </tr>\n",
       "    <tr>\n",
       "      <th>...</th>\n",
       "      <td>...</td>\n",
       "      <td>...</td>\n",
       "      <td>...</td>\n",
       "      <td>...</td>\n",
       "      <td>...</td>\n",
       "      <td>...</td>\n",
       "      <td>...</td>\n",
       "      <td>...</td>\n",
       "      <td>...</td>\n",
       "      <td>...</td>\n",
       "      <td>...</td>\n",
       "      <td>...</td>\n",
       "      <td>...</td>\n",
       "      <td>...</td>\n",
       "      <td>...</td>\n",
       "      <td>...</td>\n",
       "      <td>...</td>\n",
       "      <td>...</td>\n",
       "      <td>...</td>\n",
       "      <td>...</td>\n",
       "    </tr>\n",
       "    <tr>\n",
       "      <th>777710</th>\n",
       "      <td>5150337</td>\n",
       "      <td>M</td>\n",
       "      <td>N</td>\n",
       "      <td>Y</td>\n",
       "      <td>0.0</td>\n",
       "      <td>112500.0</td>\n",
       "      <td>Working</td>\n",
       "      <td>Secondary / secondary special</td>\n",
       "      <td>Single / not married</td>\n",
       "      <td>Rented apartment</td>\n",
       "      <td>-9188</td>\n",
       "      <td>-1193</td>\n",
       "      <td>1</td>\n",
       "      <td>0</td>\n",
       "      <td>0</td>\n",
       "      <td>0</td>\n",
       "      <td>1.0</td>\n",
       "      <td>-9</td>\n",
       "      <td>0</td>\n",
       "      <td>first_month_due</td>\n",
       "    </tr>\n",
       "    <tr>\n",
       "      <th>777711</th>\n",
       "      <td>5150337</td>\n",
       "      <td>M</td>\n",
       "      <td>N</td>\n",
       "      <td>Y</td>\n",
       "      <td>0.0</td>\n",
       "      <td>112500.0</td>\n",
       "      <td>Working</td>\n",
       "      <td>Secondary / secondary special</td>\n",
       "      <td>Single / not married</td>\n",
       "      <td>Rented apartment</td>\n",
       "      <td>-9188</td>\n",
       "      <td>-1193</td>\n",
       "      <td>1</td>\n",
       "      <td>0</td>\n",
       "      <td>0</td>\n",
       "      <td>0</td>\n",
       "      <td>1.0</td>\n",
       "      <td>-10</td>\n",
       "      <td>2</td>\n",
       "      <td>3rd_month_overdue</td>\n",
       "    </tr>\n",
       "    <tr>\n",
       "      <th>777712</th>\n",
       "      <td>5150337</td>\n",
       "      <td>M</td>\n",
       "      <td>N</td>\n",
       "      <td>Y</td>\n",
       "      <td>0.0</td>\n",
       "      <td>112500.0</td>\n",
       "      <td>Working</td>\n",
       "      <td>Secondary / secondary special</td>\n",
       "      <td>Single / not married</td>\n",
       "      <td>Rented apartment</td>\n",
       "      <td>-9188</td>\n",
       "      <td>-1193</td>\n",
       "      <td>1</td>\n",
       "      <td>0</td>\n",
       "      <td>0</td>\n",
       "      <td>0</td>\n",
       "      <td>1.0</td>\n",
       "      <td>-11</td>\n",
       "      <td>1</td>\n",
       "      <td>2nd_month_due</td>\n",
       "    </tr>\n",
       "    <tr>\n",
       "      <th>777713</th>\n",
       "      <td>5150337</td>\n",
       "      <td>M</td>\n",
       "      <td>N</td>\n",
       "      <td>Y</td>\n",
       "      <td>0.0</td>\n",
       "      <td>112500.0</td>\n",
       "      <td>Working</td>\n",
       "      <td>Secondary / secondary special</td>\n",
       "      <td>Single / not married</td>\n",
       "      <td>Rented apartment</td>\n",
       "      <td>-9188</td>\n",
       "      <td>-1193</td>\n",
       "      <td>1</td>\n",
       "      <td>0</td>\n",
       "      <td>0</td>\n",
       "      <td>0</td>\n",
       "      <td>1.0</td>\n",
       "      <td>-12</td>\n",
       "      <td>0</td>\n",
       "      <td>first_month_due</td>\n",
       "    </tr>\n",
       "    <tr>\n",
       "      <th>777714</th>\n",
       "      <td>5150337</td>\n",
       "      <td>M</td>\n",
       "      <td>N</td>\n",
       "      <td>Y</td>\n",
       "      <td>0.0</td>\n",
       "      <td>112500.0</td>\n",
       "      <td>Working</td>\n",
       "      <td>Secondary / secondary special</td>\n",
       "      <td>Single / not married</td>\n",
       "      <td>Rented apartment</td>\n",
       "      <td>-9188</td>\n",
       "      <td>-1193</td>\n",
       "      <td>1</td>\n",
       "      <td>0</td>\n",
       "      <td>0</td>\n",
       "      <td>0</td>\n",
       "      <td>1.0</td>\n",
       "      <td>-13</td>\n",
       "      <td>0</td>\n",
       "      <td>first_month_due</td>\n",
       "    </tr>\n",
       "  </tbody>\n",
       "</table>\n",
       "<p>777715 rows × 20 columns</p>\n",
       "</div>"
      ],
      "text/plain": [
       "             ID gender own_car own_property  children    income income_type  \\\n",
       "0       5008804      M       Y            Y       0.0  162000.0     Working   \n",
       "1       5008804      M       Y            Y       0.0  162000.0     Working   \n",
       "2       5008804      M       Y            Y       0.0  162000.0     Working   \n",
       "3       5008804      M       Y            Y       0.0  162000.0     Working   \n",
       "4       5008804      M       Y            Y       0.0  162000.0     Working   \n",
       "...         ...    ...     ...          ...       ...       ...         ...   \n",
       "777710  5150337      M       N            Y       0.0  112500.0     Working   \n",
       "777711  5150337      M       N            Y       0.0  112500.0     Working   \n",
       "777712  5150337      M       N            Y       0.0  112500.0     Working   \n",
       "777713  5150337      M       N            Y       0.0  112500.0     Working   \n",
       "777714  5150337      M       N            Y       0.0  112500.0     Working   \n",
       "\n",
       "                            education         family_status      housing_type  \\\n",
       "0                    Higher education        Civil marriage  Rented apartment   \n",
       "1                    Higher education        Civil marriage  Rented apartment   \n",
       "2                    Higher education        Civil marriage  Rented apartment   \n",
       "3                    Higher education        Civil marriage  Rented apartment   \n",
       "4                    Higher education        Civil marriage  Rented apartment   \n",
       "...                               ...                   ...               ...   \n",
       "777710  Secondary / secondary special  Single / not married  Rented apartment   \n",
       "777711  Secondary / secondary special  Single / not married  Rented apartment   \n",
       "777712  Secondary / secondary special  Single / not married  Rented apartment   \n",
       "777713  Secondary / secondary special  Single / not married  Rented apartment   \n",
       "777714  Secondary / secondary special  Single / not married  Rented apartment   \n",
       "\n",
       "        age_in_days  employment_in_days  mobile  work_phone  phone  email  \\\n",
       "0            -12005               -4542       1           1      0      0   \n",
       "1            -12005               -4542       1           1      0      0   \n",
       "2            -12005               -4542       1           1      0      0   \n",
       "3            -12005               -4542       1           1      0      0   \n",
       "4            -12005               -4542       1           1      0      0   \n",
       "...             ...                 ...     ...         ...    ...    ...   \n",
       "777710        -9188               -1193       1           0      0      0   \n",
       "777711        -9188               -1193       1           0      0      0   \n",
       "777712        -9188               -1193       1           0      0      0   \n",
       "777713        -9188               -1193       1           0      0      0   \n",
       "777714        -9188               -1193       1           0      0      0   \n",
       "\n",
       "        family_members  months_balance status        loan_status  \n",
       "0                  2.0               0      C               good  \n",
       "1                  2.0              -1      C               good  \n",
       "2                  2.0              -2      C               good  \n",
       "3                  2.0              -3      C               good  \n",
       "4                  2.0              -4      C               good  \n",
       "...                ...             ...    ...                ...  \n",
       "777710             1.0              -9      0    first_month_due  \n",
       "777711             1.0             -10      2  3rd_month_overdue  \n",
       "777712             1.0             -11      1      2nd_month_due  \n",
       "777713             1.0             -12      0    first_month_due  \n",
       "777714             1.0             -13      0    first_month_due  \n",
       "\n",
       "[777715 rows x 20 columns]"
      ]
     },
     "execution_count": 207,
     "metadata": {},
     "output_type": "execute_result"
    }
   ],
   "source": [
    "df"
   ]
  },
  {
   "cell_type": "code",
   "execution_count": 208,
   "id": "b6c4e68d",
   "metadata": {},
   "outputs": [
    {
     "data": {
      "text/plain": [
       "array(['good', '2nd_month_due', 'first_month_due', 'no_loan', 'bad_debt',\n",
       "       '5th_month_overdue', '4th_month_overdue', '3rd_month_overdue'],\n",
       "      dtype=object)"
      ]
     },
     "execution_count": 208,
     "metadata": {},
     "output_type": "execute_result"
    }
   ],
   "source": [
    "df['loan_status'].unique()"
   ]
  },
  {
   "cell_type": "code",
   "execution_count": 209,
   "id": "d92f04f8",
   "metadata": {},
   "outputs": [],
   "source": [
    "df['loan_status'] = df['loan_status'].map({'first_month_due': '0' , '2nd_month_due': '1', '3rd_month_overdue' : '2',  '4th_month_overdue': '3',\n",
    "                                '5th_month_overdue' : '4', 'bad_debt' : '5' , 'good': '6' , 'no_loan' : '7'})\n"
   ]
  },
  {
   "cell_type": "code",
   "execution_count": 210,
   "id": "6f28c155",
   "metadata": {},
   "outputs": [
    {
     "data": {
      "text/plain": [
       "array(['6', '1', '0', '7', '5', '4', '3', '2'], dtype=object)"
      ]
     },
     "execution_count": 210,
     "metadata": {},
     "output_type": "execute_result"
    }
   ],
   "source": [
    "df['loan_status'].unique()"
   ]
  },
  {
   "cell_type": "code",
   "execution_count": 211,
   "id": "32218865",
   "metadata": {},
   "outputs": [
    {
     "data": {
      "text/html": [
       "<div>\n",
       "<style scoped>\n",
       "    .dataframe tbody tr th:only-of-type {\n",
       "        vertical-align: middle;\n",
       "    }\n",
       "\n",
       "    .dataframe tbody tr th {\n",
       "        vertical-align: top;\n",
       "    }\n",
       "\n",
       "    .dataframe thead th {\n",
       "        text-align: right;\n",
       "    }\n",
       "</style>\n",
       "<table border=\"1\" class=\"dataframe\">\n",
       "  <thead>\n",
       "    <tr style=\"text-align: right;\">\n",
       "      <th></th>\n",
       "      <th>ID</th>\n",
       "      <th>gender</th>\n",
       "      <th>own_car</th>\n",
       "      <th>own_property</th>\n",
       "      <th>children</th>\n",
       "      <th>income</th>\n",
       "      <th>income_type</th>\n",
       "      <th>education</th>\n",
       "      <th>family_status</th>\n",
       "      <th>housing_type</th>\n",
       "      <th>age_in_days</th>\n",
       "      <th>employment_in_days</th>\n",
       "      <th>mobile</th>\n",
       "      <th>work_phone</th>\n",
       "      <th>phone</th>\n",
       "      <th>email</th>\n",
       "      <th>family_members</th>\n",
       "      <th>months_balance</th>\n",
       "      <th>status</th>\n",
       "      <th>loan_status</th>\n",
       "    </tr>\n",
       "  </thead>\n",
       "  <tbody>\n",
       "    <tr>\n",
       "      <th>0</th>\n",
       "      <td>5008804</td>\n",
       "      <td>M</td>\n",
       "      <td>Y</td>\n",
       "      <td>Y</td>\n",
       "      <td>0.0</td>\n",
       "      <td>162000.0</td>\n",
       "      <td>Working</td>\n",
       "      <td>Higher education</td>\n",
       "      <td>Civil marriage</td>\n",
       "      <td>Rented apartment</td>\n",
       "      <td>-12005</td>\n",
       "      <td>-4542</td>\n",
       "      <td>1</td>\n",
       "      <td>1</td>\n",
       "      <td>0</td>\n",
       "      <td>0</td>\n",
       "      <td>2.0</td>\n",
       "      <td>0</td>\n",
       "      <td>C</td>\n",
       "      <td>6</td>\n",
       "    </tr>\n",
       "    <tr>\n",
       "      <th>1</th>\n",
       "      <td>5008804</td>\n",
       "      <td>M</td>\n",
       "      <td>Y</td>\n",
       "      <td>Y</td>\n",
       "      <td>0.0</td>\n",
       "      <td>162000.0</td>\n",
       "      <td>Working</td>\n",
       "      <td>Higher education</td>\n",
       "      <td>Civil marriage</td>\n",
       "      <td>Rented apartment</td>\n",
       "      <td>-12005</td>\n",
       "      <td>-4542</td>\n",
       "      <td>1</td>\n",
       "      <td>1</td>\n",
       "      <td>0</td>\n",
       "      <td>0</td>\n",
       "      <td>2.0</td>\n",
       "      <td>-1</td>\n",
       "      <td>C</td>\n",
       "      <td>6</td>\n",
       "    </tr>\n",
       "    <tr>\n",
       "      <th>2</th>\n",
       "      <td>5008804</td>\n",
       "      <td>M</td>\n",
       "      <td>Y</td>\n",
       "      <td>Y</td>\n",
       "      <td>0.0</td>\n",
       "      <td>162000.0</td>\n",
       "      <td>Working</td>\n",
       "      <td>Higher education</td>\n",
       "      <td>Civil marriage</td>\n",
       "      <td>Rented apartment</td>\n",
       "      <td>-12005</td>\n",
       "      <td>-4542</td>\n",
       "      <td>1</td>\n",
       "      <td>1</td>\n",
       "      <td>0</td>\n",
       "      <td>0</td>\n",
       "      <td>2.0</td>\n",
       "      <td>-2</td>\n",
       "      <td>C</td>\n",
       "      <td>6</td>\n",
       "    </tr>\n",
       "    <tr>\n",
       "      <th>3</th>\n",
       "      <td>5008804</td>\n",
       "      <td>M</td>\n",
       "      <td>Y</td>\n",
       "      <td>Y</td>\n",
       "      <td>0.0</td>\n",
       "      <td>162000.0</td>\n",
       "      <td>Working</td>\n",
       "      <td>Higher education</td>\n",
       "      <td>Civil marriage</td>\n",
       "      <td>Rented apartment</td>\n",
       "      <td>-12005</td>\n",
       "      <td>-4542</td>\n",
       "      <td>1</td>\n",
       "      <td>1</td>\n",
       "      <td>0</td>\n",
       "      <td>0</td>\n",
       "      <td>2.0</td>\n",
       "      <td>-3</td>\n",
       "      <td>C</td>\n",
       "      <td>6</td>\n",
       "    </tr>\n",
       "    <tr>\n",
       "      <th>4</th>\n",
       "      <td>5008804</td>\n",
       "      <td>M</td>\n",
       "      <td>Y</td>\n",
       "      <td>Y</td>\n",
       "      <td>0.0</td>\n",
       "      <td>162000.0</td>\n",
       "      <td>Working</td>\n",
       "      <td>Higher education</td>\n",
       "      <td>Civil marriage</td>\n",
       "      <td>Rented apartment</td>\n",
       "      <td>-12005</td>\n",
       "      <td>-4542</td>\n",
       "      <td>1</td>\n",
       "      <td>1</td>\n",
       "      <td>0</td>\n",
       "      <td>0</td>\n",
       "      <td>2.0</td>\n",
       "      <td>-4</td>\n",
       "      <td>C</td>\n",
       "      <td>6</td>\n",
       "    </tr>\n",
       "    <tr>\n",
       "      <th>...</th>\n",
       "      <td>...</td>\n",
       "      <td>...</td>\n",
       "      <td>...</td>\n",
       "      <td>...</td>\n",
       "      <td>...</td>\n",
       "      <td>...</td>\n",
       "      <td>...</td>\n",
       "      <td>...</td>\n",
       "      <td>...</td>\n",
       "      <td>...</td>\n",
       "      <td>...</td>\n",
       "      <td>...</td>\n",
       "      <td>...</td>\n",
       "      <td>...</td>\n",
       "      <td>...</td>\n",
       "      <td>...</td>\n",
       "      <td>...</td>\n",
       "      <td>...</td>\n",
       "      <td>...</td>\n",
       "      <td>...</td>\n",
       "    </tr>\n",
       "    <tr>\n",
       "      <th>777710</th>\n",
       "      <td>5150337</td>\n",
       "      <td>M</td>\n",
       "      <td>N</td>\n",
       "      <td>Y</td>\n",
       "      <td>0.0</td>\n",
       "      <td>112500.0</td>\n",
       "      <td>Working</td>\n",
       "      <td>Secondary / secondary special</td>\n",
       "      <td>Single / not married</td>\n",
       "      <td>Rented apartment</td>\n",
       "      <td>-9188</td>\n",
       "      <td>-1193</td>\n",
       "      <td>1</td>\n",
       "      <td>0</td>\n",
       "      <td>0</td>\n",
       "      <td>0</td>\n",
       "      <td>1.0</td>\n",
       "      <td>-9</td>\n",
       "      <td>0</td>\n",
       "      <td>0</td>\n",
       "    </tr>\n",
       "    <tr>\n",
       "      <th>777711</th>\n",
       "      <td>5150337</td>\n",
       "      <td>M</td>\n",
       "      <td>N</td>\n",
       "      <td>Y</td>\n",
       "      <td>0.0</td>\n",
       "      <td>112500.0</td>\n",
       "      <td>Working</td>\n",
       "      <td>Secondary / secondary special</td>\n",
       "      <td>Single / not married</td>\n",
       "      <td>Rented apartment</td>\n",
       "      <td>-9188</td>\n",
       "      <td>-1193</td>\n",
       "      <td>1</td>\n",
       "      <td>0</td>\n",
       "      <td>0</td>\n",
       "      <td>0</td>\n",
       "      <td>1.0</td>\n",
       "      <td>-10</td>\n",
       "      <td>2</td>\n",
       "      <td>2</td>\n",
       "    </tr>\n",
       "    <tr>\n",
       "      <th>777712</th>\n",
       "      <td>5150337</td>\n",
       "      <td>M</td>\n",
       "      <td>N</td>\n",
       "      <td>Y</td>\n",
       "      <td>0.0</td>\n",
       "      <td>112500.0</td>\n",
       "      <td>Working</td>\n",
       "      <td>Secondary / secondary special</td>\n",
       "      <td>Single / not married</td>\n",
       "      <td>Rented apartment</td>\n",
       "      <td>-9188</td>\n",
       "      <td>-1193</td>\n",
       "      <td>1</td>\n",
       "      <td>0</td>\n",
       "      <td>0</td>\n",
       "      <td>0</td>\n",
       "      <td>1.0</td>\n",
       "      <td>-11</td>\n",
       "      <td>1</td>\n",
       "      <td>1</td>\n",
       "    </tr>\n",
       "    <tr>\n",
       "      <th>777713</th>\n",
       "      <td>5150337</td>\n",
       "      <td>M</td>\n",
       "      <td>N</td>\n",
       "      <td>Y</td>\n",
       "      <td>0.0</td>\n",
       "      <td>112500.0</td>\n",
       "      <td>Working</td>\n",
       "      <td>Secondary / secondary special</td>\n",
       "      <td>Single / not married</td>\n",
       "      <td>Rented apartment</td>\n",
       "      <td>-9188</td>\n",
       "      <td>-1193</td>\n",
       "      <td>1</td>\n",
       "      <td>0</td>\n",
       "      <td>0</td>\n",
       "      <td>0</td>\n",
       "      <td>1.0</td>\n",
       "      <td>-12</td>\n",
       "      <td>0</td>\n",
       "      <td>0</td>\n",
       "    </tr>\n",
       "    <tr>\n",
       "      <th>777714</th>\n",
       "      <td>5150337</td>\n",
       "      <td>M</td>\n",
       "      <td>N</td>\n",
       "      <td>Y</td>\n",
       "      <td>0.0</td>\n",
       "      <td>112500.0</td>\n",
       "      <td>Working</td>\n",
       "      <td>Secondary / secondary special</td>\n",
       "      <td>Single / not married</td>\n",
       "      <td>Rented apartment</td>\n",
       "      <td>-9188</td>\n",
       "      <td>-1193</td>\n",
       "      <td>1</td>\n",
       "      <td>0</td>\n",
       "      <td>0</td>\n",
       "      <td>0</td>\n",
       "      <td>1.0</td>\n",
       "      <td>-13</td>\n",
       "      <td>0</td>\n",
       "      <td>0</td>\n",
       "    </tr>\n",
       "  </tbody>\n",
       "</table>\n",
       "<p>777715 rows × 20 columns</p>\n",
       "</div>"
      ],
      "text/plain": [
       "             ID gender own_car own_property  children    income income_type  \\\n",
       "0       5008804      M       Y            Y       0.0  162000.0     Working   \n",
       "1       5008804      M       Y            Y       0.0  162000.0     Working   \n",
       "2       5008804      M       Y            Y       0.0  162000.0     Working   \n",
       "3       5008804      M       Y            Y       0.0  162000.0     Working   \n",
       "4       5008804      M       Y            Y       0.0  162000.0     Working   \n",
       "...         ...    ...     ...          ...       ...       ...         ...   \n",
       "777710  5150337      M       N            Y       0.0  112500.0     Working   \n",
       "777711  5150337      M       N            Y       0.0  112500.0     Working   \n",
       "777712  5150337      M       N            Y       0.0  112500.0     Working   \n",
       "777713  5150337      M       N            Y       0.0  112500.0     Working   \n",
       "777714  5150337      M       N            Y       0.0  112500.0     Working   \n",
       "\n",
       "                            education         family_status      housing_type  \\\n",
       "0                    Higher education        Civil marriage  Rented apartment   \n",
       "1                    Higher education        Civil marriage  Rented apartment   \n",
       "2                    Higher education        Civil marriage  Rented apartment   \n",
       "3                    Higher education        Civil marriage  Rented apartment   \n",
       "4                    Higher education        Civil marriage  Rented apartment   \n",
       "...                               ...                   ...               ...   \n",
       "777710  Secondary / secondary special  Single / not married  Rented apartment   \n",
       "777711  Secondary / secondary special  Single / not married  Rented apartment   \n",
       "777712  Secondary / secondary special  Single / not married  Rented apartment   \n",
       "777713  Secondary / secondary special  Single / not married  Rented apartment   \n",
       "777714  Secondary / secondary special  Single / not married  Rented apartment   \n",
       "\n",
       "        age_in_days  employment_in_days  mobile  work_phone  phone  email  \\\n",
       "0            -12005               -4542       1           1      0      0   \n",
       "1            -12005               -4542       1           1      0      0   \n",
       "2            -12005               -4542       1           1      0      0   \n",
       "3            -12005               -4542       1           1      0      0   \n",
       "4            -12005               -4542       1           1      0      0   \n",
       "...             ...                 ...     ...         ...    ...    ...   \n",
       "777710        -9188               -1193       1           0      0      0   \n",
       "777711        -9188               -1193       1           0      0      0   \n",
       "777712        -9188               -1193       1           0      0      0   \n",
       "777713        -9188               -1193       1           0      0      0   \n",
       "777714        -9188               -1193       1           0      0      0   \n",
       "\n",
       "        family_members  months_balance status loan_status  \n",
       "0                  2.0               0      C           6  \n",
       "1                  2.0              -1      C           6  \n",
       "2                  2.0              -2      C           6  \n",
       "3                  2.0              -3      C           6  \n",
       "4                  2.0              -4      C           6  \n",
       "...                ...             ...    ...         ...  \n",
       "777710             1.0              -9      0           0  \n",
       "777711             1.0             -10      2           2  \n",
       "777712             1.0             -11      1           1  \n",
       "777713             1.0             -12      0           0  \n",
       "777714             1.0             -13      0           0  \n",
       "\n",
       "[777715 rows x 20 columns]"
      ]
     },
     "execution_count": 211,
     "metadata": {},
     "output_type": "execute_result"
    }
   ],
   "source": [
    "df"
   ]
  },
  {
   "cell_type": "code",
   "execution_count": 212,
   "id": "edb94780",
   "metadata": {},
   "outputs": [],
   "source": [
    "df[\"loan_status\"] = df[\"loan_status\"].map({'1':0,'2':0,'3':0,'4':0,'5':0,'0':1,'6':1,'7':1})"
   ]
  },
  {
   "cell_type": "code",
   "execution_count": 213,
   "id": "70bc3c90",
   "metadata": {},
   "outputs": [
    {
     "data": {
      "text/plain": [
       "ID                    0\n",
       "gender                0\n",
       "own_car               0\n",
       "own_property          0\n",
       "children              0\n",
       "income                0\n",
       "income_type           0\n",
       "education             0\n",
       "family_status         0\n",
       "housing_type          0\n",
       "age_in_days           0\n",
       "employment_in_days    0\n",
       "mobile                0\n",
       "work_phone            0\n",
       "phone                 0\n",
       "email                 0\n",
       "family_members        0\n",
       "months_balance        0\n",
       "status                0\n",
       "loan_status           0\n",
       "dtype: int64"
      ]
     },
     "execution_count": 213,
     "metadata": {},
     "output_type": "execute_result"
    }
   ],
   "source": [
    "df.isna().sum()"
   ]
  },
  {
   "cell_type": "code",
   "execution_count": 214,
   "id": "55f8a33d",
   "metadata": {},
   "outputs": [],
   "source": [
    "from sklearn.preprocessing import StandardScaler"
   ]
  },
  {
   "cell_type": "code",
   "execution_count": 215,
   "id": "7feabde6",
   "metadata": {},
   "outputs": [
    {
     "data": {
      "text/html": [
       "<div>\n",
       "<style scoped>\n",
       "    .dataframe tbody tr th:only-of-type {\n",
       "        vertical-align: middle;\n",
       "    }\n",
       "\n",
       "    .dataframe tbody tr th {\n",
       "        vertical-align: top;\n",
       "    }\n",
       "\n",
       "    .dataframe thead th {\n",
       "        text-align: right;\n",
       "    }\n",
       "</style>\n",
       "<table border=\"1\" class=\"dataframe\">\n",
       "  <thead>\n",
       "    <tr style=\"text-align: right;\">\n",
       "      <th></th>\n",
       "      <th>ID</th>\n",
       "      <th>gender</th>\n",
       "      <th>own_car</th>\n",
       "      <th>own_property</th>\n",
       "      <th>children</th>\n",
       "      <th>income</th>\n",
       "      <th>income_type</th>\n",
       "      <th>education</th>\n",
       "      <th>family_status</th>\n",
       "      <th>housing_type</th>\n",
       "      <th>age_in_days</th>\n",
       "      <th>employment_in_days</th>\n",
       "      <th>mobile</th>\n",
       "      <th>work_phone</th>\n",
       "      <th>phone</th>\n",
       "      <th>email</th>\n",
       "      <th>family_members</th>\n",
       "      <th>months_balance</th>\n",
       "      <th>status</th>\n",
       "      <th>loan_status</th>\n",
       "    </tr>\n",
       "  </thead>\n",
       "  <tbody>\n",
       "    <tr>\n",
       "      <th>0</th>\n",
       "      <td>5008804</td>\n",
       "      <td>M</td>\n",
       "      <td>Y</td>\n",
       "      <td>Y</td>\n",
       "      <td>0.0</td>\n",
       "      <td>162000.0</td>\n",
       "      <td>Working</td>\n",
       "      <td>Higher education</td>\n",
       "      <td>Civil marriage</td>\n",
       "      <td>Rented apartment</td>\n",
       "      <td>-12005</td>\n",
       "      <td>-4542</td>\n",
       "      <td>1</td>\n",
       "      <td>1</td>\n",
       "      <td>0</td>\n",
       "      <td>0</td>\n",
       "      <td>2.0</td>\n",
       "      <td>0</td>\n",
       "      <td>C</td>\n",
       "      <td>1</td>\n",
       "    </tr>\n",
       "    <tr>\n",
       "      <th>1</th>\n",
       "      <td>5008804</td>\n",
       "      <td>M</td>\n",
       "      <td>Y</td>\n",
       "      <td>Y</td>\n",
       "      <td>0.0</td>\n",
       "      <td>162000.0</td>\n",
       "      <td>Working</td>\n",
       "      <td>Higher education</td>\n",
       "      <td>Civil marriage</td>\n",
       "      <td>Rented apartment</td>\n",
       "      <td>-12005</td>\n",
       "      <td>-4542</td>\n",
       "      <td>1</td>\n",
       "      <td>1</td>\n",
       "      <td>0</td>\n",
       "      <td>0</td>\n",
       "      <td>2.0</td>\n",
       "      <td>-1</td>\n",
       "      <td>C</td>\n",
       "      <td>1</td>\n",
       "    </tr>\n",
       "    <tr>\n",
       "      <th>2</th>\n",
       "      <td>5008804</td>\n",
       "      <td>M</td>\n",
       "      <td>Y</td>\n",
       "      <td>Y</td>\n",
       "      <td>0.0</td>\n",
       "      <td>162000.0</td>\n",
       "      <td>Working</td>\n",
       "      <td>Higher education</td>\n",
       "      <td>Civil marriage</td>\n",
       "      <td>Rented apartment</td>\n",
       "      <td>-12005</td>\n",
       "      <td>-4542</td>\n",
       "      <td>1</td>\n",
       "      <td>1</td>\n",
       "      <td>0</td>\n",
       "      <td>0</td>\n",
       "      <td>2.0</td>\n",
       "      <td>-2</td>\n",
       "      <td>C</td>\n",
       "      <td>1</td>\n",
       "    </tr>\n",
       "    <tr>\n",
       "      <th>3</th>\n",
       "      <td>5008804</td>\n",
       "      <td>M</td>\n",
       "      <td>Y</td>\n",
       "      <td>Y</td>\n",
       "      <td>0.0</td>\n",
       "      <td>162000.0</td>\n",
       "      <td>Working</td>\n",
       "      <td>Higher education</td>\n",
       "      <td>Civil marriage</td>\n",
       "      <td>Rented apartment</td>\n",
       "      <td>-12005</td>\n",
       "      <td>-4542</td>\n",
       "      <td>1</td>\n",
       "      <td>1</td>\n",
       "      <td>0</td>\n",
       "      <td>0</td>\n",
       "      <td>2.0</td>\n",
       "      <td>-3</td>\n",
       "      <td>C</td>\n",
       "      <td>1</td>\n",
       "    </tr>\n",
       "    <tr>\n",
       "      <th>4</th>\n",
       "      <td>5008804</td>\n",
       "      <td>M</td>\n",
       "      <td>Y</td>\n",
       "      <td>Y</td>\n",
       "      <td>0.0</td>\n",
       "      <td>162000.0</td>\n",
       "      <td>Working</td>\n",
       "      <td>Higher education</td>\n",
       "      <td>Civil marriage</td>\n",
       "      <td>Rented apartment</td>\n",
       "      <td>-12005</td>\n",
       "      <td>-4542</td>\n",
       "      <td>1</td>\n",
       "      <td>1</td>\n",
       "      <td>0</td>\n",
       "      <td>0</td>\n",
       "      <td>2.0</td>\n",
       "      <td>-4</td>\n",
       "      <td>C</td>\n",
       "      <td>1</td>\n",
       "    </tr>\n",
       "    <tr>\n",
       "      <th>...</th>\n",
       "      <td>...</td>\n",
       "      <td>...</td>\n",
       "      <td>...</td>\n",
       "      <td>...</td>\n",
       "      <td>...</td>\n",
       "      <td>...</td>\n",
       "      <td>...</td>\n",
       "      <td>...</td>\n",
       "      <td>...</td>\n",
       "      <td>...</td>\n",
       "      <td>...</td>\n",
       "      <td>...</td>\n",
       "      <td>...</td>\n",
       "      <td>...</td>\n",
       "      <td>...</td>\n",
       "      <td>...</td>\n",
       "      <td>...</td>\n",
       "      <td>...</td>\n",
       "      <td>...</td>\n",
       "      <td>...</td>\n",
       "    </tr>\n",
       "    <tr>\n",
       "      <th>777710</th>\n",
       "      <td>5150337</td>\n",
       "      <td>M</td>\n",
       "      <td>N</td>\n",
       "      <td>Y</td>\n",
       "      <td>0.0</td>\n",
       "      <td>112500.0</td>\n",
       "      <td>Working</td>\n",
       "      <td>Secondary / secondary special</td>\n",
       "      <td>Single / not married</td>\n",
       "      <td>Rented apartment</td>\n",
       "      <td>-9188</td>\n",
       "      <td>-1193</td>\n",
       "      <td>1</td>\n",
       "      <td>0</td>\n",
       "      <td>0</td>\n",
       "      <td>0</td>\n",
       "      <td>1.0</td>\n",
       "      <td>-9</td>\n",
       "      <td>0</td>\n",
       "      <td>1</td>\n",
       "    </tr>\n",
       "    <tr>\n",
       "      <th>777711</th>\n",
       "      <td>5150337</td>\n",
       "      <td>M</td>\n",
       "      <td>N</td>\n",
       "      <td>Y</td>\n",
       "      <td>0.0</td>\n",
       "      <td>112500.0</td>\n",
       "      <td>Working</td>\n",
       "      <td>Secondary / secondary special</td>\n",
       "      <td>Single / not married</td>\n",
       "      <td>Rented apartment</td>\n",
       "      <td>-9188</td>\n",
       "      <td>-1193</td>\n",
       "      <td>1</td>\n",
       "      <td>0</td>\n",
       "      <td>0</td>\n",
       "      <td>0</td>\n",
       "      <td>1.0</td>\n",
       "      <td>-10</td>\n",
       "      <td>2</td>\n",
       "      <td>0</td>\n",
       "    </tr>\n",
       "    <tr>\n",
       "      <th>777712</th>\n",
       "      <td>5150337</td>\n",
       "      <td>M</td>\n",
       "      <td>N</td>\n",
       "      <td>Y</td>\n",
       "      <td>0.0</td>\n",
       "      <td>112500.0</td>\n",
       "      <td>Working</td>\n",
       "      <td>Secondary / secondary special</td>\n",
       "      <td>Single / not married</td>\n",
       "      <td>Rented apartment</td>\n",
       "      <td>-9188</td>\n",
       "      <td>-1193</td>\n",
       "      <td>1</td>\n",
       "      <td>0</td>\n",
       "      <td>0</td>\n",
       "      <td>0</td>\n",
       "      <td>1.0</td>\n",
       "      <td>-11</td>\n",
       "      <td>1</td>\n",
       "      <td>0</td>\n",
       "    </tr>\n",
       "    <tr>\n",
       "      <th>777713</th>\n",
       "      <td>5150337</td>\n",
       "      <td>M</td>\n",
       "      <td>N</td>\n",
       "      <td>Y</td>\n",
       "      <td>0.0</td>\n",
       "      <td>112500.0</td>\n",
       "      <td>Working</td>\n",
       "      <td>Secondary / secondary special</td>\n",
       "      <td>Single / not married</td>\n",
       "      <td>Rented apartment</td>\n",
       "      <td>-9188</td>\n",
       "      <td>-1193</td>\n",
       "      <td>1</td>\n",
       "      <td>0</td>\n",
       "      <td>0</td>\n",
       "      <td>0</td>\n",
       "      <td>1.0</td>\n",
       "      <td>-12</td>\n",
       "      <td>0</td>\n",
       "      <td>1</td>\n",
       "    </tr>\n",
       "    <tr>\n",
       "      <th>777714</th>\n",
       "      <td>5150337</td>\n",
       "      <td>M</td>\n",
       "      <td>N</td>\n",
       "      <td>Y</td>\n",
       "      <td>0.0</td>\n",
       "      <td>112500.0</td>\n",
       "      <td>Working</td>\n",
       "      <td>Secondary / secondary special</td>\n",
       "      <td>Single / not married</td>\n",
       "      <td>Rented apartment</td>\n",
       "      <td>-9188</td>\n",
       "      <td>-1193</td>\n",
       "      <td>1</td>\n",
       "      <td>0</td>\n",
       "      <td>0</td>\n",
       "      <td>0</td>\n",
       "      <td>1.0</td>\n",
       "      <td>-13</td>\n",
       "      <td>0</td>\n",
       "      <td>1</td>\n",
       "    </tr>\n",
       "  </tbody>\n",
       "</table>\n",
       "<p>777715 rows × 20 columns</p>\n",
       "</div>"
      ],
      "text/plain": [
       "             ID gender own_car own_property  children    income income_type  \\\n",
       "0       5008804      M       Y            Y       0.0  162000.0     Working   \n",
       "1       5008804      M       Y            Y       0.0  162000.0     Working   \n",
       "2       5008804      M       Y            Y       0.0  162000.0     Working   \n",
       "3       5008804      M       Y            Y       0.0  162000.0     Working   \n",
       "4       5008804      M       Y            Y       0.0  162000.0     Working   \n",
       "...         ...    ...     ...          ...       ...       ...         ...   \n",
       "777710  5150337      M       N            Y       0.0  112500.0     Working   \n",
       "777711  5150337      M       N            Y       0.0  112500.0     Working   \n",
       "777712  5150337      M       N            Y       0.0  112500.0     Working   \n",
       "777713  5150337      M       N            Y       0.0  112500.0     Working   \n",
       "777714  5150337      M       N            Y       0.0  112500.0     Working   \n",
       "\n",
       "                            education         family_status      housing_type  \\\n",
       "0                    Higher education        Civil marriage  Rented apartment   \n",
       "1                    Higher education        Civil marriage  Rented apartment   \n",
       "2                    Higher education        Civil marriage  Rented apartment   \n",
       "3                    Higher education        Civil marriage  Rented apartment   \n",
       "4                    Higher education        Civil marriage  Rented apartment   \n",
       "...                               ...                   ...               ...   \n",
       "777710  Secondary / secondary special  Single / not married  Rented apartment   \n",
       "777711  Secondary / secondary special  Single / not married  Rented apartment   \n",
       "777712  Secondary / secondary special  Single / not married  Rented apartment   \n",
       "777713  Secondary / secondary special  Single / not married  Rented apartment   \n",
       "777714  Secondary / secondary special  Single / not married  Rented apartment   \n",
       "\n",
       "        age_in_days  employment_in_days  mobile  work_phone  phone  email  \\\n",
       "0            -12005               -4542       1           1      0      0   \n",
       "1            -12005               -4542       1           1      0      0   \n",
       "2            -12005               -4542       1           1      0      0   \n",
       "3            -12005               -4542       1           1      0      0   \n",
       "4            -12005               -4542       1           1      0      0   \n",
       "...             ...                 ...     ...         ...    ...    ...   \n",
       "777710        -9188               -1193       1           0      0      0   \n",
       "777711        -9188               -1193       1           0      0      0   \n",
       "777712        -9188               -1193       1           0      0      0   \n",
       "777713        -9188               -1193       1           0      0      0   \n",
       "777714        -9188               -1193       1           0      0      0   \n",
       "\n",
       "        family_members  months_balance status  loan_status  \n",
       "0                  2.0               0      C            1  \n",
       "1                  2.0              -1      C            1  \n",
       "2                  2.0              -2      C            1  \n",
       "3                  2.0              -3      C            1  \n",
       "4                  2.0              -4      C            1  \n",
       "...                ...             ...    ...          ...  \n",
       "777710             1.0              -9      0            1  \n",
       "777711             1.0             -10      2            0  \n",
       "777712             1.0             -11      1            0  \n",
       "777713             1.0             -12      0            1  \n",
       "777714             1.0             -13      0            1  \n",
       "\n",
       "[777715 rows x 20 columns]"
      ]
     },
     "execution_count": 215,
     "metadata": {},
     "output_type": "execute_result"
    }
   ],
   "source": [
    "df"
   ]
  },
  {
   "cell_type": "code",
   "execution_count": 216,
   "id": "aa44a320",
   "metadata": {},
   "outputs": [],
   "source": [
    "col=['children','income','age_in_days','family_members','ID']\n",
    "sc=StandardScaler()\n",
    "for i in col:\n",
    "    df[i]=sc.fit_transform(df[[i]])"
   ]
  },
  {
   "cell_type": "code",
   "execution_count": 217,
   "id": "73a50d39",
   "metadata": {},
   "outputs": [],
   "source": [
    "df.drop(columns=\"status\",inplace=True)"
   ]
  },
  {
   "cell_type": "markdown",
   "id": "c48c5793",
   "metadata": {},
   "source": [
    "# Label Encoding"
   ]
  },
  {
   "cell_type": "code",
   "execution_count": 218,
   "id": "9f54e86d",
   "metadata": {},
   "outputs": [],
   "source": [
    "from sklearn.preprocessing import LabelEncoder"
   ]
  },
  {
   "cell_type": "code",
   "execution_count": 219,
   "id": "8192b9b0",
   "metadata": {},
   "outputs": [],
   "source": [
    "col = ['gender', 'own_car', 'own_property', 'income_type','education', 'family_status', 'housing_type']\n",
    "le = LabelEncoder()\n",
    "for i in col:\n",
    "    df[i] =le.fit_transform(df[i] )"
   ]
  },
  {
   "cell_type": "code",
   "execution_count": 220,
   "id": "8e95efe2",
   "metadata": {},
   "outputs": [
    {
     "data": {
      "text/html": [
       "<div>\n",
       "<style scoped>\n",
       "    .dataframe tbody tr th:only-of-type {\n",
       "        vertical-align: middle;\n",
       "    }\n",
       "\n",
       "    .dataframe tbody tr th {\n",
       "        vertical-align: top;\n",
       "    }\n",
       "\n",
       "    .dataframe thead th {\n",
       "        text-align: right;\n",
       "    }\n",
       "</style>\n",
       "<table border=\"1\" class=\"dataframe\">\n",
       "  <thead>\n",
       "    <tr style=\"text-align: right;\">\n",
       "      <th></th>\n",
       "      <th>ID</th>\n",
       "      <th>gender</th>\n",
       "      <th>own_car</th>\n",
       "      <th>own_property</th>\n",
       "      <th>children</th>\n",
       "      <th>income</th>\n",
       "      <th>income_type</th>\n",
       "      <th>education</th>\n",
       "      <th>family_status</th>\n",
       "      <th>housing_type</th>\n",
       "      <th>age_in_days</th>\n",
       "      <th>employment_in_days</th>\n",
       "      <th>mobile</th>\n",
       "      <th>work_phone</th>\n",
       "      <th>phone</th>\n",
       "      <th>email</th>\n",
       "      <th>family_members</th>\n",
       "      <th>months_balance</th>\n",
       "      <th>loan_status</th>\n",
       "    </tr>\n",
       "  </thead>\n",
       "  <tbody>\n",
       "    <tr>\n",
       "      <th>306783</th>\n",
       "      <td>-0.419285</td>\n",
       "      <td>0</td>\n",
       "      <td>1</td>\n",
       "      <td>1</td>\n",
       "      <td>-0.590317</td>\n",
       "      <td>-0.232385</td>\n",
       "      <td>2</td>\n",
       "      <td>4</td>\n",
       "      <td>2</td>\n",
       "      <td>1</td>\n",
       "      <td>0.519196</td>\n",
       "      <td>-4185</td>\n",
       "      <td>1</td>\n",
       "      <td>1</td>\n",
       "      <td>1</td>\n",
       "      <td>0</td>\n",
       "      <td>-0.199667</td>\n",
       "      <td>-9</td>\n",
       "      <td>1</td>\n",
       "    </tr>\n",
       "    <tr>\n",
       "      <th>597157</th>\n",
       "      <td>0.885865</td>\n",
       "      <td>1</td>\n",
       "      <td>0</td>\n",
       "      <td>1</td>\n",
       "      <td>-0.590317</td>\n",
       "      <td>1.367230</td>\n",
       "      <td>4</td>\n",
       "      <td>4</td>\n",
       "      <td>1</td>\n",
       "      <td>5</td>\n",
       "      <td>0.334024</td>\n",
       "      <td>-2871</td>\n",
       "      <td>1</td>\n",
       "      <td>1</td>\n",
       "      <td>0</td>\n",
       "      <td>0</td>\n",
       "      <td>-0.199667</td>\n",
       "      <td>-6</td>\n",
       "      <td>1</td>\n",
       "    </tr>\n",
       "    <tr>\n",
       "      <th>424920</th>\n",
       "      <td>0.248731</td>\n",
       "      <td>0</td>\n",
       "      <td>1</td>\n",
       "      <td>0</td>\n",
       "      <td>-0.590317</td>\n",
       "      <td>0.407461</td>\n",
       "      <td>0</td>\n",
       "      <td>4</td>\n",
       "      <td>0</td>\n",
       "      <td>5</td>\n",
       "      <td>0.462183</td>\n",
       "      <td>-5330</td>\n",
       "      <td>1</td>\n",
       "      <td>0</td>\n",
       "      <td>1</td>\n",
       "      <td>0</td>\n",
       "      <td>-0.199667</td>\n",
       "      <td>-13</td>\n",
       "      <td>1</td>\n",
       "    </tr>\n",
       "    <tr>\n",
       "      <th>636514</th>\n",
       "      <td>0.949830</td>\n",
       "      <td>0</td>\n",
       "      <td>0</td>\n",
       "      <td>0</td>\n",
       "      <td>0.958409</td>\n",
       "      <td>-1.384108</td>\n",
       "      <td>4</td>\n",
       "      <td>4</td>\n",
       "      <td>1</td>\n",
       "      <td>1</td>\n",
       "      <td>1.472830</td>\n",
       "      <td>-735</td>\n",
       "      <td>1</td>\n",
       "      <td>1</td>\n",
       "      <td>0</td>\n",
       "      <td>0</td>\n",
       "      <td>1.019232</td>\n",
       "      <td>-31</td>\n",
       "      <td>1</td>\n",
       "    </tr>\n",
       "    <tr>\n",
       "      <th>603209</th>\n",
       "      <td>0.893879</td>\n",
       "      <td>1</td>\n",
       "      <td>1</td>\n",
       "      <td>0</td>\n",
       "      <td>-0.590317</td>\n",
       "      <td>0.087538</td>\n",
       "      <td>4</td>\n",
       "      <td>4</td>\n",
       "      <td>3</td>\n",
       "      <td>5</td>\n",
       "      <td>1.215539</td>\n",
       "      <td>-3487</td>\n",
       "      <td>1</td>\n",
       "      <td>0</td>\n",
       "      <td>1</td>\n",
       "      <td>0</td>\n",
       "      <td>-1.418566</td>\n",
       "      <td>-20</td>\n",
       "      <td>1</td>\n",
       "    </tr>\n",
       "    <tr>\n",
       "      <th>480089</th>\n",
       "      <td>0.327455</td>\n",
       "      <td>0</td>\n",
       "      <td>0</td>\n",
       "      <td>1</td>\n",
       "      <td>-0.590317</td>\n",
       "      <td>-1.704032</td>\n",
       "      <td>4</td>\n",
       "      <td>1</td>\n",
       "      <td>1</td>\n",
       "      <td>1</td>\n",
       "      <td>0.574260</td>\n",
       "      <td>-747</td>\n",
       "      <td>1</td>\n",
       "      <td>0</td>\n",
       "      <td>0</td>\n",
       "      <td>0</td>\n",
       "      <td>-0.199667</td>\n",
       "      <td>-33</td>\n",
       "      <td>1</td>\n",
       "    </tr>\n",
       "    <tr>\n",
       "      <th>289578</th>\n",
       "      <td>-0.579699</td>\n",
       "      <td>0</td>\n",
       "      <td>0</td>\n",
       "      <td>1</td>\n",
       "      <td>-0.590317</td>\n",
       "      <td>0.983322</td>\n",
       "      <td>1</td>\n",
       "      <td>4</td>\n",
       "      <td>1</td>\n",
       "      <td>1</td>\n",
       "      <td>-1.602481</td>\n",
       "      <td>365243</td>\n",
       "      <td>1</td>\n",
       "      <td>0</td>\n",
       "      <td>0</td>\n",
       "      <td>0</td>\n",
       "      <td>-0.199667</td>\n",
       "      <td>-21</td>\n",
       "      <td>1</td>\n",
       "    </tr>\n",
       "    <tr>\n",
       "      <th>152132</th>\n",
       "      <td>0.006867</td>\n",
       "      <td>0</td>\n",
       "      <td>0</td>\n",
       "      <td>1</td>\n",
       "      <td>-0.590317</td>\n",
       "      <td>-0.552308</td>\n",
       "      <td>1</td>\n",
       "      <td>3</td>\n",
       "      <td>1</td>\n",
       "      <td>1</td>\n",
       "      <td>-1.570075</td>\n",
       "      <td>365243</td>\n",
       "      <td>1</td>\n",
       "      <td>0</td>\n",
       "      <td>0</td>\n",
       "      <td>0</td>\n",
       "      <td>-0.199667</td>\n",
       "      <td>-11</td>\n",
       "      <td>1</td>\n",
       "    </tr>\n",
       "    <tr>\n",
       "      <th>125824</th>\n",
       "      <td>-1.190304</td>\n",
       "      <td>0</td>\n",
       "      <td>0</td>\n",
       "      <td>1</td>\n",
       "      <td>-0.590317</td>\n",
       "      <td>0.279492</td>\n",
       "      <td>4</td>\n",
       "      <td>4</td>\n",
       "      <td>2</td>\n",
       "      <td>1</td>\n",
       "      <td>-0.715850</td>\n",
       "      <td>-2213</td>\n",
       "      <td>1</td>\n",
       "      <td>1</td>\n",
       "      <td>1</td>\n",
       "      <td>1</td>\n",
       "      <td>-1.418566</td>\n",
       "      <td>-31</td>\n",
       "      <td>1</td>\n",
       "    </tr>\n",
       "    <tr>\n",
       "      <th>593608</th>\n",
       "      <td>0.880507</td>\n",
       "      <td>0</td>\n",
       "      <td>0</td>\n",
       "      <td>1</td>\n",
       "      <td>-0.590317</td>\n",
       "      <td>-0.552308</td>\n",
       "      <td>4</td>\n",
       "      <td>4</td>\n",
       "      <td>1</td>\n",
       "      <td>1</td>\n",
       "      <td>0.757483</td>\n",
       "      <td>-2324</td>\n",
       "      <td>1</td>\n",
       "      <td>1</td>\n",
       "      <td>1</td>\n",
       "      <td>0</td>\n",
       "      <td>-0.199667</td>\n",
       "      <td>-34</td>\n",
       "      <td>1</td>\n",
       "    </tr>\n",
       "  </tbody>\n",
       "</table>\n",
       "</div>"
      ],
      "text/plain": [
       "              ID  gender  own_car  own_property  children    income  \\\n",
       "306783 -0.419285       0        1             1 -0.590317 -0.232385   \n",
       "597157  0.885865       1        0             1 -0.590317  1.367230   \n",
       "424920  0.248731       0        1             0 -0.590317  0.407461   \n",
       "636514  0.949830       0        0             0  0.958409 -1.384108   \n",
       "603209  0.893879       1        1             0 -0.590317  0.087538   \n",
       "480089  0.327455       0        0             1 -0.590317 -1.704032   \n",
       "289578 -0.579699       0        0             1 -0.590317  0.983322   \n",
       "152132  0.006867       0        0             1 -0.590317 -0.552308   \n",
       "125824 -1.190304       0        0             1 -0.590317  0.279492   \n",
       "593608  0.880507       0        0             1 -0.590317 -0.552308   \n",
       "\n",
       "        income_type  education  family_status  housing_type  age_in_days  \\\n",
       "306783            2          4              2             1     0.519196   \n",
       "597157            4          4              1             5     0.334024   \n",
       "424920            0          4              0             5     0.462183   \n",
       "636514            4          4              1             1     1.472830   \n",
       "603209            4          4              3             5     1.215539   \n",
       "480089            4          1              1             1     0.574260   \n",
       "289578            1          4              1             1    -1.602481   \n",
       "152132            1          3              1             1    -1.570075   \n",
       "125824            4          4              2             1    -0.715850   \n",
       "593608            4          4              1             1     0.757483   \n",
       "\n",
       "        employment_in_days  mobile  work_phone  phone  email  family_members  \\\n",
       "306783               -4185       1           1      1      0       -0.199667   \n",
       "597157               -2871       1           1      0      0       -0.199667   \n",
       "424920               -5330       1           0      1      0       -0.199667   \n",
       "636514                -735       1           1      0      0        1.019232   \n",
       "603209               -3487       1           0      1      0       -1.418566   \n",
       "480089                -747       1           0      0      0       -0.199667   \n",
       "289578              365243       1           0      0      0       -0.199667   \n",
       "152132              365243       1           0      0      0       -0.199667   \n",
       "125824               -2213       1           1      1      1       -1.418566   \n",
       "593608               -2324       1           1      1      0       -0.199667   \n",
       "\n",
       "        months_balance  loan_status  \n",
       "306783              -9            1  \n",
       "597157              -6            1  \n",
       "424920             -13            1  \n",
       "636514             -31            1  \n",
       "603209             -20            1  \n",
       "480089             -33            1  \n",
       "289578             -21            1  \n",
       "152132             -11            1  \n",
       "125824             -31            1  \n",
       "593608             -34            1  "
      ]
     },
     "execution_count": 220,
     "metadata": {},
     "output_type": "execute_result"
    }
   ],
   "source": [
    "df.sample(10)"
   ]
  },
  {
   "cell_type": "markdown",
   "id": "259d14f9",
   "metadata": {},
   "source": [
    "# Check for Multicolinearity"
   ]
  },
  {
   "cell_type": "code",
   "execution_count": 221,
   "id": "7adcacb2",
   "metadata": {},
   "outputs": [],
   "source": [
    "from statsmodels.stats.outliers_influence import variance_inflation_factor\n",
    "from statsmodels.tools.tools import add_constant"
   ]
  },
  {
   "cell_type": "code",
   "execution_count": 222,
   "id": "3d8b29c3",
   "metadata": {},
   "outputs": [
    {
     "name": "stdout",
     "output_type": "stream",
     "text": [
      "          VIF            Features\n",
      "0    1.019165                  ID\n",
      "1    1.240486              gender\n",
      "2    1.218307             own_car\n",
      "3    1.096036        own_property\n",
      "4   12.236508            children\n",
      "5    1.165436              income\n",
      "6    1.187861         income_type\n",
      "7    1.090580           education\n",
      "8    4.476697       family_status\n",
      "9    1.072517        housing_type\n",
      "10   1.875586         age_in_days\n",
      "11   1.872534  employment_in_days\n",
      "12  26.842117              mobile\n",
      "13   1.253519          work_phone\n",
      "14   1.124165               phone\n",
      "15   1.032459               email\n",
      "16  17.299036      family_members\n",
      "17   1.002499      months_balance\n"
     ]
    }
   ],
   "source": [
    "col = df.drop(['loan_status'], axis=1)\n",
    "factor  = pd.DataFrame(columns=[\"VIF\", \"Features\"] )\n",
    "factor[\"Features\"] = col.columns\n",
    "factor[\"VIF\"] = [variance_inflation_factor(col.values, i) for i in range(col.shape[1])]\n",
    "print(factor)"
   ]
  },
  {
   "cell_type": "markdown",
   "id": "54305328",
   "metadata": {},
   "source": [
    "# Model Building"
   ]
  },
  {
   "cell_type": "code",
   "execution_count": 223,
   "id": "ff67dc12",
   "metadata": {},
   "outputs": [],
   "source": [
    "X=df.drop(['loan_status','children','family_members','mobile','ID'],axis=1)\n",
    "y=df['loan_status']"
   ]
  },
  {
   "cell_type": "code",
   "execution_count": 224,
   "id": "ab50eb4d",
   "metadata": {},
   "outputs": [
    {
     "data": {
      "text/html": [
       "<div>\n",
       "<style scoped>\n",
       "    .dataframe tbody tr th:only-of-type {\n",
       "        vertical-align: middle;\n",
       "    }\n",
       "\n",
       "    .dataframe tbody tr th {\n",
       "        vertical-align: top;\n",
       "    }\n",
       "\n",
       "    .dataframe thead th {\n",
       "        text-align: right;\n",
       "    }\n",
       "</style>\n",
       "<table border=\"1\" class=\"dataframe\">\n",
       "  <thead>\n",
       "    <tr style=\"text-align: right;\">\n",
       "      <th></th>\n",
       "      <th>gender</th>\n",
       "      <th>own_car</th>\n",
       "      <th>own_property</th>\n",
       "      <th>income</th>\n",
       "      <th>income_type</th>\n",
       "      <th>education</th>\n",
       "      <th>family_status</th>\n",
       "      <th>housing_type</th>\n",
       "      <th>age_in_days</th>\n",
       "      <th>employment_in_days</th>\n",
       "      <th>work_phone</th>\n",
       "      <th>phone</th>\n",
       "      <th>email</th>\n",
       "      <th>months_balance</th>\n",
       "    </tr>\n",
       "  </thead>\n",
       "  <tbody>\n",
       "    <tr>\n",
       "      <th>0</th>\n",
       "      <td>1</td>\n",
       "      <td>1</td>\n",
       "      <td>1</td>\n",
       "      <td>-0.168401</td>\n",
       "      <td>4</td>\n",
       "      <td>1</td>\n",
       "      <td>0</td>\n",
       "      <td>4</td>\n",
       "      <td>1.00381</td>\n",
       "      <td>-4542</td>\n",
       "      <td>1</td>\n",
       "      <td>0</td>\n",
       "      <td>0</td>\n",
       "      <td>0</td>\n",
       "    </tr>\n",
       "    <tr>\n",
       "      <th>1</th>\n",
       "      <td>1</td>\n",
       "      <td>1</td>\n",
       "      <td>1</td>\n",
       "      <td>-0.168401</td>\n",
       "      <td>4</td>\n",
       "      <td>1</td>\n",
       "      <td>0</td>\n",
       "      <td>4</td>\n",
       "      <td>1.00381</td>\n",
       "      <td>-4542</td>\n",
       "      <td>1</td>\n",
       "      <td>0</td>\n",
       "      <td>0</td>\n",
       "      <td>-1</td>\n",
       "    </tr>\n",
       "    <tr>\n",
       "      <th>2</th>\n",
       "      <td>1</td>\n",
       "      <td>1</td>\n",
       "      <td>1</td>\n",
       "      <td>-0.168401</td>\n",
       "      <td>4</td>\n",
       "      <td>1</td>\n",
       "      <td>0</td>\n",
       "      <td>4</td>\n",
       "      <td>1.00381</td>\n",
       "      <td>-4542</td>\n",
       "      <td>1</td>\n",
       "      <td>0</td>\n",
       "      <td>0</td>\n",
       "      <td>-2</td>\n",
       "    </tr>\n",
       "    <tr>\n",
       "      <th>3</th>\n",
       "      <td>1</td>\n",
       "      <td>1</td>\n",
       "      <td>1</td>\n",
       "      <td>-0.168401</td>\n",
       "      <td>4</td>\n",
       "      <td>1</td>\n",
       "      <td>0</td>\n",
       "      <td>4</td>\n",
       "      <td>1.00381</td>\n",
       "      <td>-4542</td>\n",
       "      <td>1</td>\n",
       "      <td>0</td>\n",
       "      <td>0</td>\n",
       "      <td>-3</td>\n",
       "    </tr>\n",
       "    <tr>\n",
       "      <th>4</th>\n",
       "      <td>1</td>\n",
       "      <td>1</td>\n",
       "      <td>1</td>\n",
       "      <td>-0.168401</td>\n",
       "      <td>4</td>\n",
       "      <td>1</td>\n",
       "      <td>0</td>\n",
       "      <td>4</td>\n",
       "      <td>1.00381</td>\n",
       "      <td>-4542</td>\n",
       "      <td>1</td>\n",
       "      <td>0</td>\n",
       "      <td>0</td>\n",
       "      <td>-4</td>\n",
       "    </tr>\n",
       "  </tbody>\n",
       "</table>\n",
       "</div>"
      ],
      "text/plain": [
       "   gender  own_car  own_property    income  income_type  education  \\\n",
       "0       1        1             1 -0.168401            4          1   \n",
       "1       1        1             1 -0.168401            4          1   \n",
       "2       1        1             1 -0.168401            4          1   \n",
       "3       1        1             1 -0.168401            4          1   \n",
       "4       1        1             1 -0.168401            4          1   \n",
       "\n",
       "   family_status  housing_type  age_in_days  employment_in_days  work_phone  \\\n",
       "0              0             4      1.00381               -4542           1   \n",
       "1              0             4      1.00381               -4542           1   \n",
       "2              0             4      1.00381               -4542           1   \n",
       "3              0             4      1.00381               -4542           1   \n",
       "4              0             4      1.00381               -4542           1   \n",
       "\n",
       "   phone  email  months_balance  \n",
       "0      0      0               0  \n",
       "1      0      0              -1  \n",
       "2      0      0              -2  \n",
       "3      0      0              -3  \n",
       "4      0      0              -4  "
      ]
     },
     "execution_count": 224,
     "metadata": {},
     "output_type": "execute_result"
    }
   ],
   "source": [
    "X.head()"
   ]
  },
  {
   "cell_type": "code",
   "execution_count": 225,
   "id": "836224a9",
   "metadata": {},
   "outputs": [
    {
     "name": "stdout",
     "output_type": "stream",
     "text": [
      "         VIF            Features\n",
      "0   1.849160              gender\n",
      "1   1.897481             own_car\n",
      "2   2.708654        own_property\n",
      "3   1.157115              income\n",
      "4   3.125013         income_type\n",
      "5   5.015382           education\n",
      "6   2.821749       family_status\n",
      "7   2.691962        housing_type\n",
      "8   1.702441         age_in_days\n",
      "9   2.089953  employment_in_days\n",
      "10  1.582685          work_phone\n",
      "11  1.572498               phone\n",
      "12  1.120872               email\n",
      "13  2.614558      months_balance\n"
     ]
    }
   ],
   "source": [
    "col = X\n",
    "factor  = pd.DataFrame(columns=[\"VIF\", \"Features\"] )\n",
    "factor[\"Features\"] = col.columns\n",
    "factor[\"VIF\"] = [variance_inflation_factor(col.values, i) for i in range(col.shape[1])]\n",
    "print(factor)"
   ]
  },
  {
   "cell_type": "code",
   "execution_count": 226,
   "id": "c5b4c358",
   "metadata": {},
   "outputs": [
    {
     "data": {
      "text/plain": [
       "Index(['gender', 'own_car', 'own_property', 'income', 'income_type',\n",
       "       'education', 'family_status', 'housing_type', 'age_in_days',\n",
       "       'employment_in_days', 'work_phone', 'phone', 'email', 'months_balance'],\n",
       "      dtype='object')"
      ]
     },
     "execution_count": 226,
     "metadata": {},
     "output_type": "execute_result"
    }
   ],
   "source": [
    "X.columns"
   ]
  },
  {
   "cell_type": "code",
   "execution_count": 227,
   "id": "588909a8",
   "metadata": {},
   "outputs": [
    {
     "data": {
      "text/plain": [
       "(777715, 14)"
      ]
     },
     "execution_count": 227,
     "metadata": {},
     "output_type": "execute_result"
    }
   ],
   "source": [
    "X.shape"
   ]
  },
  {
   "cell_type": "code",
   "execution_count": 228,
   "id": "ccb84563",
   "metadata": {},
   "outputs": [
    {
     "data": {
      "text/plain": [
       "(777715,)"
      ]
     },
     "execution_count": 228,
     "metadata": {},
     "output_type": "execute_result"
    }
   ],
   "source": [
    "y.shape"
   ]
  },
  {
   "cell_type": "code",
   "execution_count": 229,
   "id": "35959218",
   "metadata": {},
   "outputs": [],
   "source": [
    "from sklearn.model_selection import train_test_split"
   ]
  },
  {
   "cell_type": "code",
   "execution_count": 230,
   "id": "ffc91a0f",
   "metadata": {},
   "outputs": [],
   "source": [
    "X_train, X_test, y_train, y_test = train_test_split(X, y, test_size=0.2, random_state=42)"
   ]
  },
  {
   "cell_type": "code",
   "execution_count": 231,
   "id": "5e44fbaa",
   "metadata": {},
   "outputs": [],
   "source": [
    "from sklearn.linear_model import LogisticRegression\n",
    "from sklearn.metrics import accuracy_score\n",
    "from sklearn.neighbors import KNeighborsClassifier\n",
    "from sklearn.tree import DecisionTreeClassifier\n",
    "from sklearn.ensemble import RandomForestClassifier\n",
    "from sklearn.ensemble import AdaBoostClassifier\n",
    "from sklearn.metrics import precision_score , recall_score"
   ]
  },
  {
   "cell_type": "code",
   "execution_count": 232,
   "id": "6374fde2",
   "metadata": {},
   "outputs": [],
   "source": [
    "def evaluate_classifiers(X_train, X_test, y_train, y_test):\n",
    "    classifiers = {\n",
    "        \"Logistic Regression\": LogisticRegression(max_iter=5),\n",
    "        \"K-Nearest Neighbors\": KNeighborsClassifier(n_neighbors=5),\n",
    "        \"Decision Tree\": DecisionTreeClassifier(random_state=42),\n",
    "        \"Random Forest\": RandomForestClassifier(n_estimators=10, random_state=42),\n",
    "        \"AdaBoost\": AdaBoostClassifier(estimator=DecisionTreeClassifier(max_depth=1, random_state=42), n_estimators=50, random_state=42)\n",
    "    }\n",
    "\n",
    "    results = []\n",
    "\n",
    "    # Evaluate each classifier\n",
    "    for name, clf in classifiers.items():\n",
    "        clf.fit(X_train, y_train)\n",
    "        y_pred_test = clf.predict(X_test)\n",
    "        y_pred_train = clf.predict(X_train)\n",
    "        accuracy_test = accuracy_score(y_test, y_pred_test)\n",
    "        accuracy_train = accuracy_score(y_train, y_pred_train)\n",
    "        precision_test = precision_score(y_test, y_pred_test, average='macro')\n",
    "        precision_train = precision_score(y_train, y_pred_train, average='macro')\n",
    "        recall_test = recall_score(y_test, y_pred_test, average='macro')\n",
    "        recall_train = recall_score(y_train, y_pred_train, average='macro')\n",
    "        \n",
    "        results.append({\"Model\": name, \"Train Accuracy\": accuracy_train, 'Test Accuracy': accuracy_test, \n",
    "                        \"Train Precision\": precision_train, 'Test Precision': precision_test, \"Train Recall\": recall_train,\n",
    "                       'Test Recall': accuracy_test})\n",
    "\n",
    "    return print(pd.DataFrame(results))"
   ]
  },
  {
   "cell_type": "code",
   "execution_count": 233,
   "id": "fe688972",
   "metadata": {},
   "outputs": [
    {
     "name": "stderr",
     "output_type": "stream",
     "text": [
      "C:\\Users\\HP\\anaconda3\\Lib\\site-packages\\sklearn\\linear_model\\_logistic.py:460: ConvergenceWarning: lbfgs failed to converge (status=1):\n",
      "STOP: TOTAL NO. of ITERATIONS REACHED LIMIT.\n",
      "\n",
      "Increase the number of iterations (max_iter) or scale the data as shown in:\n",
      "    https://scikit-learn.org/stable/modules/preprocessing.html\n",
      "Please also refer to the documentation for alternative solver options:\n",
      "    https://scikit-learn.org/stable/modules/linear_model.html#logistic-regression\n",
      "  n_iter_i = _check_optimize_result(\n",
      "C:\\Users\\HP\\anaconda3\\Lib\\site-packages\\sklearn\\metrics\\_classification.py:1469: UndefinedMetricWarning: Precision is ill-defined and being set to 0.0 in labels with no predicted samples. Use `zero_division` parameter to control this behavior.\n",
      "  _warn_prf(average, modifier, msg_start, len(result))\n",
      "C:\\Users\\HP\\anaconda3\\Lib\\site-packages\\sklearn\\metrics\\_classification.py:1469: UndefinedMetricWarning: Precision is ill-defined and being set to 0.0 in labels with no predicted samples. Use `zero_division` parameter to control this behavior.\n",
      "  _warn_prf(average, modifier, msg_start, len(result))\n"
     ]
    },
    {
     "name": "stdout",
     "output_type": "stream",
     "text": [
      "                 Model  Train Accuracy  Test Accuracy  Train Precision  \\\n",
      "0  Logistic Regression        0.175204       0.175090         0.501247   \n",
      "1  K-Nearest Neighbors        0.987370       0.984917         0.870811   \n",
      "2        Decision Tree        0.991199       0.978495         0.862489   \n",
      "3        Random Forest        0.990702       0.981549         0.893397   \n",
      "4             AdaBoost        0.985068       0.985310         0.492534   \n",
      "\n",
      "   Test Precision  Train Recall  Test Recall  \n",
      "0        0.500898      0.511649     0.175090  \n",
      "1        0.718383      0.614070     0.984917  \n",
      "2        0.623274      0.823689     0.978495  \n",
      "3        0.652170      0.753628     0.981549  \n",
      "4        0.492655      0.500000     0.985310  \n"
     ]
    }
   ],
   "source": [
    "evaluate_classifiers(X_train, X_test, y_train, y_test)"
   ]
  },
  {
   "cell_type": "code",
   "execution_count": null,
   "id": "24413b42",
   "metadata": {},
   "outputs": [],
   "source": []
  },
  {
   "cell_type": "code",
   "execution_count": 234,
   "id": "aa3ac7d1",
   "metadata": {},
   "outputs": [],
   "source": [
    "from sklearn.model_selection import RandomizedSearchCV"
   ]
  },
  {
   "cell_type": "code",
   "execution_count": 235,
   "id": "47db0b8f",
   "metadata": {},
   "outputs": [
    {
     "name": "stdout",
     "output_type": "stream",
     "text": [
      "Fitting 3 folds for each of 3 candidates, totalling 9 fits\n"
     ]
    },
    {
     "name": "stderr",
     "output_type": "stream",
     "text": [
      "C:\\Users\\HP\\anaconda3\\Lib\\site-packages\\sklearn\\model_selection\\_search.py:307: UserWarning: The total space of parameters 3 is smaller than n_iter=10. Running 3 iterations. For exhaustive searches, use GridSearchCV.\n",
      "  warnings.warn(\n",
      "C:\\Users\\HP\\anaconda3\\Lib\\site-packages\\sklearn\\metrics\\_classification.py:1469: UndefinedMetricWarning: Precision is ill-defined and being set to 0.0 in labels with no predicted samples. Use `zero_division` parameter to control this behavior.\n",
      "  _warn_prf(average, modifier, msg_start, len(result))\n",
      "C:\\Users\\HP\\anaconda3\\Lib\\site-packages\\sklearn\\metrics\\_classification.py:1469: UndefinedMetricWarning: Precision is ill-defined and being set to 0.0 in labels with no predicted samples. Use `zero_division` parameter to control this behavior.\n",
      "  _warn_prf(average, modifier, msg_start, len(result))\n",
      "C:\\Users\\HP\\anaconda3\\Lib\\site-packages\\sklearn\\model_selection\\_search.py:307: UserWarning: The total space of parameters 4 is smaller than n_iter=10. Running 4 iterations. For exhaustive searches, use GridSearchCV.\n",
      "  warnings.warn(\n"
     ]
    },
    {
     "name": "stdout",
     "output_type": "stream",
     "text": [
      "Fitting 3 folds for each of 4 candidates, totalling 12 fits\n",
      "Fitting 3 folds for each of 10 candidates, totalling 30 fits\n",
      "Fitting 3 folds for each of 10 candidates, totalling 30 fits\n"
     ]
    },
    {
     "name": "stderr",
     "output_type": "stream",
     "text": [
      "C:\\Users\\HP\\anaconda3\\Lib\\site-packages\\sklearn\\model_selection\\_search.py:307: UserWarning: The total space of parameters 3 is smaller than n_iter=10. Running 3 iterations. For exhaustive searches, use GridSearchCV.\n",
      "  warnings.warn(\n"
     ]
    },
    {
     "name": "stdout",
     "output_type": "stream",
     "text": [
      "Fitting 3 folds for each of 3 candidates, totalling 9 fits\n"
     ]
    },
    {
     "name": "stderr",
     "output_type": "stream",
     "text": [
      "C:\\Users\\HP\\anaconda3\\Lib\\site-packages\\sklearn\\metrics\\_classification.py:1469: UndefinedMetricWarning: Precision is ill-defined and being set to 0.0 in labels with no predicted samples. Use `zero_division` parameter to control this behavior.\n",
      "  _warn_prf(average, modifier, msg_start, len(result))\n",
      "C:\\Users\\HP\\anaconda3\\Lib\\site-packages\\sklearn\\metrics\\_classification.py:1469: UndefinedMetricWarning: Precision is ill-defined and being set to 0.0 in labels with no predicted samples. Use `zero_division` parameter to control this behavior.\n",
      "  _warn_prf(average, modifier, msg_start, len(result))\n"
     ]
    },
    {
     "name": "stdout",
     "output_type": "stream",
     "text": [
      "                 Model                                    Best Parameters  \\\n",
      "0  Logistic Regression                                  {'max_iter': 100}   \n",
      "1  K-Nearest Neighbors                                 {'n_neighbors': 9}   \n",
      "2        Decision Tree         {'min_samples_split': 10, 'max_depth': 10}   \n",
      "3        Random Forest  {'n_estimators': 50, 'min_samples_split': 10, ...   \n",
      "4             AdaBoost                               {'n_estimators': 50}   \n",
      "\n",
      "   Train Accuracy  Test Accuracy  Train Precision  Test Precision  \\\n",
      "0        0.985068       0.985310         0.492534        0.492655   \n",
      "1        0.985890       0.985496         0.912688        0.791592   \n",
      "2        0.985755       0.985631         0.875301        0.805548   \n",
      "3        0.987825       0.985438         0.901518        0.751238   \n",
      "4        0.014932       0.014690         0.007466        0.007345   \n",
      "\n",
      "   Train Recall  Test Recall  Train ROC AUC  Test ROC AUC  \n",
      "0      0.500000     0.500000       0.501619      0.502204  \n",
      "1      0.533916     0.519279       0.978657      0.795321  \n",
      "2      0.533053     0.527108       0.750214      0.702864  \n",
      "3      0.619124     0.574001       0.992077      0.845490  \n",
      "4      0.500000     0.500000       0.628271      0.625142  \n"
     ]
    }
   ],
   "source": [
    "import pandas as pd\n",
    "from sklearn.linear_model import LogisticRegression\n",
    "from sklearn.neighbors import KNeighborsClassifier\n",
    "from sklearn.tree import DecisionTreeClassifier\n",
    "from sklearn.ensemble import RandomForestClassifier, AdaBoostClassifier\n",
    "from sklearn.metrics import accuracy_score, precision_score, recall_score, roc_auc_score\n",
    "from sklearn.model_selection import RandomizedSearchCV\n",
    "import numpy as np\n",
    "\n",
    "def evaluate_classifiers(X_train, X_test, y_train, y_test, thresholds=None):\n",
    "    if thresholds is None:\n",
    "        thresholds = {\"Logistic Regression\": 0.2, \"K-Nearest Neighbors\": 0.2, \n",
    "                      \"Decision Tree\": 0.2, \"Random Forest\": 0.2, \"AdaBoost\": 0.2}\n",
    "    \n",
    "    classifiers = {\n",
    "        \"Logistic Regression\": LogisticRegression(),\n",
    "        \"K-Nearest Neighbors\": KNeighborsClassifier(),\n",
    "        \"Decision Tree\": DecisionTreeClassifier(random_state=42),\n",
    "        \"Random Forest\": RandomForestClassifier(random_state=42),\n",
    "        \"AdaBoost\": AdaBoostClassifier(estimator=DecisionTreeClassifier(max_depth=1, random_state=42), random_state=42)\n",
    "    }\n",
    "    \n",
    "    param_grids = {\n",
    "        \"Logistic Regression\": {'max_iter': [100, 200, 300]},\n",
    "        \"K-Nearest Neighbors\": {'n_neighbors': [3, 5, 7, 9]},\n",
    "        \"Decision Tree\": {'max_depth': [None, 10, 20, 30], 'min_samples_split': [2, 5, 10]},\n",
    "        \"Random Forest\": {'n_estimators': [10, 50, 100, 200], 'max_depth': [None, 10, 20, 30], 'min_samples_split': [2, 5, 10], 'min_samples_leaf': [1, 2, 4], 'bootstrap': [True, False]},\n",
    "        \"AdaBoost\": {'n_estimators': [50, 100, 200]}\n",
    "    }\n",
    "    \n",
    "    results = []\n",
    "    \n",
    "    for name, clf in classifiers.items():\n",
    "        param_grid = param_grids[name]\n",
    "        random_search = RandomizedSearchCV(clf, param_distributions=param_grid, n_iter=10, cv=3, verbose=1, random_state=42, n_jobs=-1)\n",
    "        random_search.fit(X_train, y_train)\n",
    "        \n",
    "        best_clf = random_search.best_estimator_\n",
    "        \n",
    "        if hasattr(best_clf, \"predict_proba\"):\n",
    "            y_pred_proba_test = best_clf.predict_proba(X_test)[:, 1]\n",
    "            y_pred_proba_train = best_clf.predict_proba(X_train)[:, 1]\n",
    "        elif hasattr(best_clf, \"decision_function\"):\n",
    "            y_pred_proba_test = best_clf.decision_function(X_test)\n",
    "            y_pred_proba_train = best_clf.decision_function(X_train)\n",
    "        else:\n",
    "            y_pred_proba_test = best_clf.predict(X_test)\n",
    "            y_pred_proba_train = best_clf.predict(X_train)\n",
    "\n",
    "        threshold = thresholds.get(name, 0.5)\n",
    "        y_pred_test = (y_pred_proba_test >= threshold).astype(int)\n",
    "        y_pred_train = (y_pred_proba_train >= threshold).astype(int)\n",
    "        \n",
    "        accuracy_test = accuracy_score(y_test, y_pred_test)\n",
    "        accuracy_train = accuracy_score(y_train, y_pred_train)\n",
    "        precision_test = precision_score(y_test, y_pred_test, average='macro')\n",
    "        precision_train = precision_score(y_train, y_pred_train, average='macro')\n",
    "        recall_test = recall_score(y_test, y_pred_test, average='macro')\n",
    "        recall_train = recall_score(y_train, y_pred_train, average='macro')\n",
    "        roc_auc_test = roc_auc_score(y_test, y_pred_proba_test)\n",
    "        roc_auc_train = roc_auc_score(y_train, y_pred_proba_train)\n",
    "        \n",
    "        results.append({\n",
    "            \"Model\": name,\n",
    "            \"Best Parameters\": random_search.best_params_,\n",
    "            \"Train Accuracy\": accuracy_train,\n",
    "            \"Test Accuracy\": accuracy_test,\n",
    "            \"Train Precision\": precision_train,\n",
    "            \"Test Precision\": precision_test,\n",
    "            \"Train Recall\": recall_train,\n",
    "            \"Test Recall\": recall_test,\n",
    "            \"Train ROC AUC\": roc_auc_train,\n",
    "            \"Test ROC AUC\": roc_auc_test\n",
    "        })\n",
    "    \n",
    "    return pd.DataFrame(results)\n",
    "\n",
    "# Example usage:\n",
    "# Assuming X_train, X_test, y_train, y_test are already defined\n",
    "thresholds = {\"Logistic Regression\": 0.6, \"K-Nearest Neighbors\": 0.4, \"Decision Tree\": 0.5, \"Random Forest\": 0.5, \"AdaBoost\": 0.7}\n",
    "results_df = evaluate_classifiers(X_train, X_test, y_train, y_test, thresholds)\n",
    "print(results_df)\n"
   ]
  },
  {
   "cell_type": "code",
   "execution_count": null,
   "id": "8dce6b18",
   "metadata": {},
   "outputs": [],
   "source": []
  }
 ],
 "metadata": {
  "kernelspec": {
   "display_name": "Python 3 (ipykernel)",
   "language": "python",
   "name": "python3"
  },
  "language_info": {
   "codemirror_mode": {
    "name": "ipython",
    "version": 3
   },
   "file_extension": ".py",
   "mimetype": "text/x-python",
   "name": "python",
   "nbconvert_exporter": "python",
   "pygments_lexer": "ipython3",
   "version": "3.11.5"
  }
 },
 "nbformat": 4,
 "nbformat_minor": 5
}
